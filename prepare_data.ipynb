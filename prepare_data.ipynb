{
 "cells": [
  {
   "cell_type": "markdown",
   "metadata": {},
   "source": [
    "# Import"
   ]
  },
  {
   "cell_type": "code",
   "execution_count": 1,
   "metadata": {
    "ExecuteTime": {
     "end_time": "2022-05-28T03:27:24.414429Z",
     "start_time": "2022-05-28T03:27:22.445524Z"
    }
   },
   "outputs": [],
   "source": [
    "import numpy as np\n",
    "import pandas as pd\n",
    "import scanpy as sc\n",
    "import episcanpy.api as epi\n",
    "import hdf5storage\n",
    "\n",
    "import warnings\n",
    "warnings.filterwarnings(\"ignore\")"
   ]
  },
  {
   "cell_type": "markdown",
   "metadata": {},
   "source": [
    "# Prepare data"
   ]
  },
  {
   "cell_type": "markdown",
   "metadata": {},
   "source": [
    "### Cell-by-peak matrix"
   ]
  },
  {
   "cell_type": "code",
   "execution_count": 2,
   "metadata": {},
   "outputs": [
    {
     "name": "stdout",
     "output_type": "stream",
     "text": [
      "dict_keys(['__header__', '__version__', '__globals__', 'sc_mat'])\n"
     ]
    }
   ],
   "source": [
    "sc_mat = hdf5storage.loadmat('./example/Splenocyte_sc_mat.mat')\n",
    "print(sc_mat.keys())"
   ]
  },
  {
   "cell_type": "code",
   "execution_count": 3,
   "metadata": {},
   "outputs": [
    {
     "name": "stdout",
     "output_type": "stream",
     "text": [
      "(3166, 77453)\n"
     ]
    }
   ],
   "source": [
    "sc_mat = sc_mat['sc_mat'].T\n",
    "print(sc_mat.shape)"
   ]
  },
  {
   "cell_type": "code",
   "execution_count": 4,
   "metadata": {},
   "outputs": [
    {
     "name": "stdout",
     "output_type": "stream",
     "text": [
      "[[0 0 0 0 0]\n",
      " [0 0 0 0 0]\n",
      " [4 0 0 0 0]\n",
      " [0 0 0 0 0]\n",
      " [0 0 0 0 0]]\n"
     ]
    }
   ],
   "source": [
    "print(sc_mat[-5:, :5])"
   ]
  },
  {
   "cell_type": "markdown",
   "metadata": {},
   "source": [
    "### Cell type labels"
   ]
  },
  {
   "cell_type": "code",
   "execution_count": 5,
   "metadata": {},
   "outputs": [
    {
     "name": "stdout",
     "output_type": "stream",
     "text": [
      "dict_keys(['__header__', '__version__', '__globals__', 'sc_label'])\n"
     ]
    }
   ],
   "source": [
    "sc_label = hdf5storage.loadmat('./example/Splenocyte_sc_label.mat')\n",
    "print(sc_label.keys())"
   ]
  },
  {
   "cell_type": "code",
   "execution_count": 6,
   "metadata": {},
   "outputs": [
    {
     "name": "stdout",
     "output_type": "stream",
     "text": [
      "(3166,)\n"
     ]
    }
   ],
   "source": [
    "sc_label = sc_label['sc_label'].reshape(-1)\n",
    "print(sc_label.shape)"
   ]
  },
  {
   "cell_type": "code",
   "execution_count": 7,
   "metadata": {},
   "outputs": [
    {
     "name": "stdout",
     "output_type": "stream",
     "text": [
      "[array(['Naive_CD8_T'], dtype='<U11') array(['Naive_CD8_T'], dtype='<U11')\n",
      " array(['Follicular_B'], dtype='<U12')\n",
      " array(['Follicular_B'], dtype='<U12')\n",
      " array(['Naive_CD4_T'], dtype='<U11')]\n"
     ]
    }
   ],
   "source": [
    "print(sc_label[-5:])"
   ]
  },
  {
   "cell_type": "code",
   "execution_count": 8,
   "metadata": {},
   "outputs": [
    {
     "name": "stdout",
     "output_type": "stream",
     "text": [
      "['Naive_CD8_T' 'Naive_CD8_T' 'Follicular_B' 'Follicular_B' 'Naive_CD4_T']\n"
     ]
    }
   ],
   "source": [
    "sc_label = np.array([s[0] for s in sc_label])\n",
    "print(sc_label[-5:])"
   ]
  },
  {
   "cell_type": "code",
   "execution_count": 9,
   "metadata": {},
   "outputs": [
    {
     "name": "stdout",
     "output_type": "stream",
     "text": [
      "Follicular_B            1358\n",
      "Naive_CD4_T              454\n",
      "Naive_CD8_T              331\n",
      "Marginal_Zone_B          254\n",
      "Transitional_B           223\n",
      "Memory_CD8_T             116\n",
      "Regulatory_T              89\n",
      "Granulocyte               85\n",
      "CD27-_Natural_Killer      75\n",
      "CD27+_Natural_Killer      65\n",
      "Dendritic_cell            61\n",
      "Macrophage                55\n",
      "dtype: int64\n"
     ]
    }
   ],
   "source": [
    "print(pd.value_counts(sc_label))"
   ]
  },
  {
   "cell_type": "markdown",
   "metadata": {},
   "source": [
    "### Peaks"
   ]
  },
  {
   "cell_type": "code",
   "execution_count": 10,
   "metadata": {},
   "outputs": [
    {
     "name": "stdout",
     "output_type": "stream",
     "text": [
      "(77453,)\n"
     ]
    }
   ],
   "source": [
    "sc_peak = pd.read_csv('./example/Splenocyte_sc_peak.txt',header=None).values.reshape(-1)\n",
    "print(sc_peak.shape)"
   ]
  },
  {
   "cell_type": "code",
   "execution_count": 11,
   "metadata": {},
   "outputs": [
    {
     "name": "stdout",
     "output_type": "stream",
     "text": [
      "['chrY_90808282_90808985' 'chrY_90828737_90829320'\n",
      " 'chrY_90833326_90833589' 'chrY_90833764_90833977'\n",
      " 'chrY_90836319_90836703']\n"
     ]
    }
   ],
   "source": [
    "print(sc_peak[-5:])"
   ]
  },
  {
   "cell_type": "markdown",
   "metadata": {},
   "source": [
    "### H5ad"
   ]
  },
  {
   "cell_type": "code",
   "execution_count": 12,
   "metadata": {},
   "outputs": [],
   "source": [
    "adata = sc.AnnData(sc_mat)\n",
    "adata.obs['cell_type'] = sc_label\n",
    "adata.var['peak'] = sc_peak"
   ]
  },
  {
   "cell_type": "markdown",
   "metadata": {},
   "source": [
    "# Check and save h5ad"
   ]
  },
  {
   "cell_type": "code",
   "execution_count": 13,
   "metadata": {},
   "outputs": [
    {
     "name": "stdout",
     "output_type": "stream",
     "text": [
      "AnnData object with n_obs × n_vars = 3166 × 77453\n",
      "    obs: 'cell_type'\n",
      "    var: 'peak'\n"
     ]
    }
   ],
   "source": [
    "print(adata)"
   ]
  },
  {
   "cell_type": "code",
   "execution_count": 14,
   "metadata": {},
   "outputs": [
    {
     "name": "stdout",
     "output_type": "stream",
     "text": [
      "            cell_type\n",
      "0         Naive_CD8_T\n",
      "1      Transitional_B\n",
      "2         Naive_CD8_T\n",
      "3     Marginal_Zone_B\n",
      "4         Naive_CD4_T\n",
      "...               ...\n",
      "3161      Naive_CD8_T\n",
      "3162      Naive_CD8_T\n",
      "3163     Follicular_B\n",
      "3164     Follicular_B\n",
      "3165      Naive_CD4_T\n",
      "\n",
      "[3166 rows x 1 columns]\n"
     ]
    }
   ],
   "source": [
    "print(adata.obs)"
   ]
  },
  {
   "cell_type": "code",
   "execution_count": 15,
   "metadata": {},
   "outputs": [
    {
     "name": "stdout",
     "output_type": "stream",
     "text": [
      "                           peak\n",
      "0          GL456210.1_3966_5250\n",
      "1        GL456210.1_16353_16873\n",
      "2        GL456210.1_17702_18003\n",
      "3        GL456210.1_75630_76290\n",
      "4      GL456210.1_118218_118800\n",
      "...                         ...\n",
      "77448    chrY_90808282_90808985\n",
      "77449    chrY_90828737_90829320\n",
      "77450    chrY_90833326_90833589\n",
      "77451    chrY_90833764_90833977\n",
      "77452    chrY_90836319_90836703\n",
      "\n",
      "[77453 rows x 1 columns]\n"
     ]
    }
   ],
   "source": [
    "print(adata.var)"
   ]
  },
  {
   "cell_type": "code",
   "execution_count": 16,
   "metadata": {},
   "outputs": [],
   "source": [
    "adata.write('./example/Splenocyte.h5ad')"
   ]
  },
  {
   "cell_type": "code",
   "execution_count": null,
   "metadata": {},
   "outputs": [],
   "source": []
  }
 ],
 "metadata": {
  "kernelspec": {
   "display_name": "singlecell2",
   "language": "python",
   "name": "singlecell2"
  },
  "language_info": {
   "codemirror_mode": {
    "name": "ipython",
    "version": 3
   },
   "file_extension": ".py",
   "mimetype": "text/x-python",
   "name": "python",
   "nbconvert_exporter": "python",
   "pygments_lexer": "ipython3",
   "version": "3.7.13"
  },
  "toc": {
   "base_numbering": 1,
   "nav_menu": {},
   "number_sections": true,
   "sideBar": true,
   "skip_h1_title": false,
   "title_cell": "Table of Contents",
   "title_sidebar": "Contents",
   "toc_cell": false,
   "toc_position": {
    "height": "calc(100% - 180px)",
    "left": "10px",
    "top": "150px",
    "width": "181.2px"
   },
   "toc_section_display": true,
   "toc_window_display": true
  }
 },
 "nbformat": 4,
 "nbformat_minor": 2
}
